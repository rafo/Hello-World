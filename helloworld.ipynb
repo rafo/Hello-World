{
  "nbformat": 4,
  "nbformat_minor": 0,
  "metadata": {
    "colab": {
      "name": "helloworld.ipynb",
      "version": "0.3.2",
      "provenance": [],
      "include_colab_link": true
    }
  },
  "cells": [
    {
      "cell_type": "markdown",
      "metadata": {
        "id": "view-in-github",
        "colab_type": "text"
      },
      "source": [
        "[View in Colaboratory](https://colab.research.google.com/github/rafo/Hello-World/blob/master/helloworld.ipynb)"
      ]
    },
    {
      "metadata": {
        "id": "jAWMhsqUAa1R",
        "colab_type": "code",
        "colab": {
          "base_uri": "https://localhost:8080/",
          "height": 34
        },
        "outputId": "fad87a53-0581-4148-859d-ab526044f390"
      },
      "cell_type": "code",
      "source": [
        "print(\"Hi Du\")"
      ],
      "execution_count": 1,
      "outputs": [
        {
          "output_type": "stream",
          "text": [
            "Hi Du\n"
          ],
          "name": "stdout"
        }
      ]
    }
  ]
}